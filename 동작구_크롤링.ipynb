{
 "cells": [
  {
   "cell_type": "code",
   "execution_count": 16,
   "metadata": {},
   "outputs": [],
   "source": [
    "import pandas as pd\n",
    "from bs4 import BeautifulSoup\n",
    "import selenium\n",
    "from selenium import webdriver\n",
    "\n",
    "#driver = webdriver.PhantomJS(executable_path='C:/Users/USER/Desktop/BOAZ/BOAZ 시각화 세션/chromedriver')\n",
    "driver = webdriver.Chrome(executable_path='C:/Users/USER/Desktop/BOAZ/BOAZ 시각화 세션/chromedriver')\n",
    "driver.maximize_window()\n",
    "import time\n",
    "import re\n",
    "import datetime\n",
    "from tqdm import tqdm"
   ]
  },
  {
   "cell_type": "code",
   "execution_count": 24,
   "metadata": {
    "scrolled": true
   },
   "outputs": [],
   "source": [
    "for i in range(144,145):\n",
    "    url='https://www.juso.go.kr/info/RoadNameDataList.do?currentPage={}&countPerPage=10&&city1=11&county1=590&town1=&keyword=&roadCd=&searchType=0&extend=true'.format(i)\n",
    "    time.sleep(1)\n",
    "    driver.get(url)\n",
    "    time.sleep(1)\n",
    "    for j in range(1,11): #각 도로명 클릭\n",
    "        driver.find_element_by_xpath('/html/body/div[2]/div/div/main/div/div[3]/'\n",
    "                                     +'table/tbody/tr[{}]/td[3]/a[1]'.format(j)).click()\n",
    "        time.sleep(2)\n",
    "        html= driver.page_source\n",
    "        soup= BeautifulSoup(html, 'lxml')\n",
    "        name.append(soup.select('h2#title_addr_detail')[0].get_text().split()[-1])\n",
    "        length.append(soup.select('td#RoadLt')[0].get_text())\n",
    "        driver.get(url)\n",
    "        time.sleep(2)"
   ]
  },
  {
   "cell_type": "code",
   "execution_count": 36,
   "metadata": {},
   "outputs": [],
   "source": [
    "df.to_csv('C:/Users/USER/Desktop/동작구 공모전/도로길이data4.csv')"
   ]
  },
  {
   "cell_type": "code",
   "execution_count": 37,
   "metadata": {},
   "outputs": [],
   "source": [
    "name=list(set(name))"
   ]
  },
  {
   "cell_type": "code",
   "execution_count": 38,
   "metadata": {},
   "outputs": [],
   "source": [
    "length=list(set(length))"
   ]
  },
  {
   "cell_type": "code",
   "execution_count": 31,
   "metadata": {},
   "outputs": [
    {
     "data": {
      "text/html": [
       "<div>\n",
       "<style scoped>\n",
       "    .dataframe tbody tr th:only-of-type {\n",
       "        vertical-align: middle;\n",
       "    }\n",
       "\n",
       "    .dataframe tbody tr th {\n",
       "        vertical-align: top;\n",
       "    }\n",
       "\n",
       "    .dataframe thead th {\n",
       "        text-align: right;\n",
       "    }\n",
       "</style>\n",
       "<table border=\"1\" class=\"dataframe\">\n",
       "  <thead>\n",
       "    <tr style=\"text-align: right;\">\n",
       "      <th></th>\n",
       "      <th>도로명</th>\n",
       "      <th>길이</th>\n",
       "    </tr>\n",
       "  </thead>\n",
       "  <tbody>\n",
       "    <tr>\n",
       "      <th>0</th>\n",
       "      <td>남부순환로</td>\n",
       "      <td>32620</td>\n",
       "    </tr>\n",
       "    <tr>\n",
       "      <th>1</th>\n",
       "      <td>남부순환로</td>\n",
       "      <td>32620</td>\n",
       "    </tr>\n",
       "    <tr>\n",
       "      <th>2</th>\n",
       "      <td>동작대로</td>\n",
       "      <td>5071</td>\n",
       "    </tr>\n",
       "    <tr>\n",
       "      <th>3</th>\n",
       "      <td>동작대로</td>\n",
       "      <td>5071</td>\n",
       "    </tr>\n",
       "    <tr>\n",
       "      <th>4</th>\n",
       "      <td>동작대로</td>\n",
       "      <td>5071</td>\n",
       "    </tr>\n",
       "    <tr>\n",
       "      <th>...</th>\n",
       "      <td>...</td>\n",
       "      <td>...</td>\n",
       "    </tr>\n",
       "    <tr>\n",
       "      <th>1422</th>\n",
       "      <td>여의대방로24아길</td>\n",
       "      <td>61</td>\n",
       "    </tr>\n",
       "    <tr>\n",
       "      <th>1423</th>\n",
       "      <td>여의대방로20길</td>\n",
       "      <td>339.977</td>\n",
       "    </tr>\n",
       "    <tr>\n",
       "      <th>1424</th>\n",
       "      <td>여의대방로20길</td>\n",
       "      <td>339.977</td>\n",
       "    </tr>\n",
       "    <tr>\n",
       "      <th>1425</th>\n",
       "      <td>국사봉10길</td>\n",
       "      <td>552</td>\n",
       "    </tr>\n",
       "    <tr>\n",
       "      <th>1426</th>\n",
       "      <td>국사봉12길</td>\n",
       "      <td>187</td>\n",
       "    </tr>\n",
       "  </tbody>\n",
       "</table>\n",
       "<p>1427 rows × 2 columns</p>\n",
       "</div>"
      ],
      "text/plain": [
       "            도로명       길이\n",
       "0         남부순환로    32620\n",
       "1         남부순환로    32620\n",
       "2          동작대로     5071\n",
       "3          동작대로     5071\n",
       "4          동작대로     5071\n",
       "...         ...      ...\n",
       "1422  여의대방로24아길       61\n",
       "1423   여의대방로20길  339.977\n",
       "1424   여의대방로20길  339.977\n",
       "1425     국사봉10길      552\n",
       "1426     국사봉12길      187\n",
       "\n",
       "[1427 rows x 2 columns]"
      ]
     },
     "execution_count": 31,
     "metadata": {},
     "output_type": "execute_result"
    }
   ],
   "source": [
    "df"
   ]
  }
 ],
 "metadata": {
  "kernelspec": {
   "display_name": "Python 3",
   "language": "python",
   "name": "python3"
  },
  "language_info": {
   "codemirror_mode": {
    "name": "ipython",
    "version": 3
   },
   "file_extension": ".py",
   "mimetype": "text/x-python",
   "name": "python",
   "nbconvert_exporter": "python",
   "pygments_lexer": "ipython3",
   "version": "3.7.1"
  }
 },
 "nbformat": 4,
 "nbformat_minor": 2
}
